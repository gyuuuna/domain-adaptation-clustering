{
 "cells": [
  {
   "cell_type": "markdown",
   "id": "0ab46b02",
   "metadata": {},
   "source": [
    "convert jsonl to json"
   ]
  },
  {
   "cell_type": "code",
   "execution_count": 2,
   "id": "7c611a46",
   "metadata": {},
   "outputs": [],
   "source": [
    "from tqdm import trange, notebook"
   ]
  },
  {
   "cell_type": "code",
   "execution_count": 3,
   "id": "5fc5d8cd",
   "metadata": {},
   "outputs": [],
   "source": [
    "import json\n",
    "\n",
    "jsonl_file_path = 'ag/train.jsonl'\n",
    "json_file_path = 'ag/train.json'\n",
    "\n",
    "# Read the JSONL file and parse each line as JSON\n",
    "json_objects = []\n",
    "with open(jsonl_file_path, 'r') as jsonl_file:\n",
    "    for line in jsonl_file:\n",
    "        json_obj = json.loads(line)\n",
    "        json_objects.append(json_obj)\n",
    "\n",
    "# Write the list of JSON objects to a new JSON file\n",
    "with open(json_file_path, 'w') as json_file:\n",
    "    json.dump(json_objects, json_file, indent=4)"
   ]
  },
  {
   "cell_type": "markdown",
   "id": "f5891f2b",
   "metadata": {},
   "source": [
    "extract text in json file and split sentences"
   ]
  },
  {
   "cell_type": "code",
   "execution_count": 5,
   "id": "56c4a75c",
   "metadata": {},
   "outputs": [],
   "source": [
    "import json\n",
    "import nltk\n",
    "import csv\n",
    "\n",
    "# Load the JSON file\n",
    "with open('ag/train.json') as json_file:\n",
    "    data = json.load(json_file)\n",
    "\n",
    "# Extract the dictionary from the list\n",
    "full_list = [['text', 'label']]\n",
    "for i in range(len(data)):\n",
    "    entry = data[i]\n",
    "    text = entry['text']\n",
    "    label = entry['label']\n",
    "    sentences = nltk.sent_tokenize(text)\n",
    "    for sentence in sentences:\n",
    "        data_list = [sentence, label]\n",
    "        full_list.append(data_list)"
   ]
  },
  {
   "cell_type": "code",
   "execution_count": 6,
   "id": "a7c534a8",
   "metadata": {},
   "outputs": [],
   "source": [
    "with open('ag/train.csv', 'w', newline='') as file:\n",
    "    writer = csv.writer(file)\n",
    "    writer.writerows(full_list)"
   ]
  },
  {
   "cell_type": "code",
   "execution_count": 9,
   "id": "c7bfd84f",
   "metadata": {},
   "outputs": [
    {
     "data": {
      "text/html": [
       "<div>\n",
       "<style scoped>\n",
       "    .dataframe tbody tr th:only-of-type {\n",
       "        vertical-align: middle;\n",
       "    }\n",
       "\n",
       "    .dataframe tbody tr th {\n",
       "        vertical-align: top;\n",
       "    }\n",
       "\n",
       "    .dataframe thead th {\n",
       "        text-align: right;\n",
       "    }\n",
       "</style>\n",
       "<table border=\"1\" class=\"dataframe\">\n",
       "  <thead>\n",
       "    <tr style=\"text-align: right;\">\n",
       "      <th></th>\n",
       "      <th>Unnamed: 0</th>\n",
       "      <th>author</th>\n",
       "      <th>date_published</th>\n",
       "      <th>part_of</th>\n",
       "      <th>article_section</th>\n",
       "      <th>url</th>\n",
       "      <th>headline</th>\n",
       "      <th>description</th>\n",
       "      <th>keywords</th>\n",
       "      <th>alternative_headline</th>\n",
       "      <th>text</th>\n",
       "    </tr>\n",
       "  </thead>\n",
       "  <tbody>\n",
       "    <tr>\n",
       "      <th>0</th>\n",
       "      <td>0</td>\n",
       "      <td>Jacopo Prisco, CNN</td>\n",
       "      <td>2021-07-15T02:46:59Z</td>\n",
       "      <td>news</td>\n",
       "      <td>world</td>\n",
       "      <td>https://www.cnn.com/2021/07/14/world/tusimple-...</td>\n",
       "      <td>There's a shortage of truckers, but TuSimple t...</td>\n",
       "      <td>The e-commerce boom has exacerbated a global t...</td>\n",
       "      <td>world, There's a shortage of truckers, but TuS...</td>\n",
       "      <td>There's a shortage of truckers, but TuSimple t...</td>\n",
       "      <td>(CNN)Right now, there's a shortage of truck d...</td>\n",
       "    </tr>\n",
       "    <tr>\n",
       "      <th>1</th>\n",
       "      <td>1</td>\n",
       "      <td>Jacopo Prisco, CNN</td>\n",
       "      <td>2021-07-15T02:46:59Z</td>\n",
       "      <td>news</td>\n",
       "      <td>world</td>\n",
       "      <td>https://www.cnn.com/2021/07/14/world/tusimple-...</td>\n",
       "      <td>There's a shortage of truckers, but TuSimple t...</td>\n",
       "      <td>The e-commerce boom has exacerbated a global t...</td>\n",
       "      <td>world, There's a shortage of truckers, but TuS...</td>\n",
       "      <td>There's a shortage of truckers, but TuSimple t...</td>\n",
       "      <td>(CNN)Right now, there's a shortage of truck d...</td>\n",
       "    </tr>\n",
       "    <tr>\n",
       "      <th>2</th>\n",
       "      <td>2</td>\n",
       "      <td>Stephanie Bailey, CNN</td>\n",
       "      <td>2021-05-12T07:52:09Z</td>\n",
       "      <td>news</td>\n",
       "      <td>world</td>\n",
       "      <td>https://www.cnn.com/2021/05/12/world/ironhand-...</td>\n",
       "      <td>Bioservo's robotic 'Ironhand' could protect fa...</td>\n",
       "      <td>Working in a factory can mean doing the same t...</td>\n",
       "      <td>world, Bioservo's robotic 'Ironhand' could pro...</td>\n",
       "      <td>A robotic 'Ironhand' could protect factory wor...</td>\n",
       "      <td>(CNN)Working in a factory or warehouse can me...</td>\n",
       "    </tr>\n",
       "    <tr>\n",
       "      <th>3</th>\n",
       "      <td>3</td>\n",
       "      <td>Words by Stephanie Bailey, video by Zahra Jamshed</td>\n",
       "      <td>2021-06-16T02:51:30Z</td>\n",
       "      <td>news</td>\n",
       "      <td>asia</td>\n",
       "      <td>https://www.cnn.com/2021/06/15/asia/swarm-robo...</td>\n",
       "      <td>This swarm of robots gets smarter the more it ...</td>\n",
       "      <td>In a Hong Kong warehouse, a swarm of autonomou...</td>\n",
       "      <td>asia, This swarm of robots gets smarter the mo...</td>\n",
       "      <td>This swarm of robots gets smarter the more it ...</td>\n",
       "      <td>(CNN)In a Hong Kong warehouse, a swarm of aut...</td>\n",
       "    </tr>\n",
       "    <tr>\n",
       "      <th>4</th>\n",
       "      <td>4</td>\n",
       "      <td>Paul R. La Monica, CNN Business</td>\n",
       "      <td>2022-03-15T09:57:36Z</td>\n",
       "      <td>business</td>\n",
       "      <td>investing</td>\n",
       "      <td>https://www.cnn.com/2022/03/15/investing/brics...</td>\n",
       "      <td>Russia is no longer an option for investors. T...</td>\n",
       "      <td>For many years, the world's most popular emerg...</td>\n",
       "      <td>investing, Russia is no longer an option for i...</td>\n",
       "      <td>Russia is no longer an option for investors. T...</td>\n",
       "      <td>New York (CNN Business)For many years, the wor...</td>\n",
       "    </tr>\n",
       "  </tbody>\n",
       "</table>\n",
       "</div>"
      ],
      "text/plain": [
       "   Unnamed: 0                                             author  \\\n",
       "0           0                                 Jacopo Prisco, CNN   \n",
       "1           1                                 Jacopo Prisco, CNN   \n",
       "2           2                              Stephanie Bailey, CNN   \n",
       "3           3  Words by Stephanie Bailey, video by Zahra Jamshed   \n",
       "4           4                    Paul R. La Monica, CNN Business   \n",
       "\n",
       "         date_published   part_of article_section  \\\n",
       "0  2021-07-15T02:46:59Z      news           world   \n",
       "1  2021-07-15T02:46:59Z      news           world   \n",
       "2  2021-05-12T07:52:09Z      news           world   \n",
       "3  2021-06-16T02:51:30Z      news            asia   \n",
       "4  2022-03-15T09:57:36Z  business       investing   \n",
       "\n",
       "                                                 url  \\\n",
       "0  https://www.cnn.com/2021/07/14/world/tusimple-...   \n",
       "1  https://www.cnn.com/2021/07/14/world/tusimple-...   \n",
       "2  https://www.cnn.com/2021/05/12/world/ironhand-...   \n",
       "3  https://www.cnn.com/2021/06/15/asia/swarm-robo...   \n",
       "4  https://www.cnn.com/2022/03/15/investing/brics...   \n",
       "\n",
       "                                            headline  \\\n",
       "0  There's a shortage of truckers, but TuSimple t...   \n",
       "1  There's a shortage of truckers, but TuSimple t...   \n",
       "2  Bioservo's robotic 'Ironhand' could protect fa...   \n",
       "3  This swarm of robots gets smarter the more it ...   \n",
       "4  Russia is no longer an option for investors. T...   \n",
       "\n",
       "                                         description  \\\n",
       "0  The e-commerce boom has exacerbated a global t...   \n",
       "1  The e-commerce boom has exacerbated a global t...   \n",
       "2  Working in a factory can mean doing the same t...   \n",
       "3  In a Hong Kong warehouse, a swarm of autonomou...   \n",
       "4  For many years, the world's most popular emerg...   \n",
       "\n",
       "                                            keywords  \\\n",
       "0  world, There's a shortage of truckers, but TuS...   \n",
       "1  world, There's a shortage of truckers, but TuS...   \n",
       "2  world, Bioservo's robotic 'Ironhand' could pro...   \n",
       "3  asia, This swarm of robots gets smarter the mo...   \n",
       "4  investing, Russia is no longer an option for i...   \n",
       "\n",
       "                                alternative_headline  \\\n",
       "0  There's a shortage of truckers, but TuSimple t...   \n",
       "1  There's a shortage of truckers, but TuSimple t...   \n",
       "2  A robotic 'Ironhand' could protect factory wor...   \n",
       "3  This swarm of robots gets smarter the more it ...   \n",
       "4  Russia is no longer an option for investors. T...   \n",
       "\n",
       "                                                text  \n",
       "0   (CNN)Right now, there's a shortage of truck d...  \n",
       "1   (CNN)Right now, there's a shortage of truck d...  \n",
       "2   (CNN)Working in a factory or warehouse can me...  \n",
       "3   (CNN)In a Hong Kong warehouse, a swarm of aut...  \n",
       "4  New York (CNN Business)For many years, the wor...  "
      ]
     },
     "execution_count": 9,
     "metadata": {},
     "output_type": "execute_result"
    }
   ],
   "source": [
    "import pandas as pd\n",
    "origin_df = pd.read_csv('cnn/CNN_Articles.csv')\n",
    "origin_df.head()"
   ]
  },
  {
   "cell_type": "code",
   "execution_count": 10,
   "id": "b97114ed",
   "metadata": {},
   "outputs": [
    {
     "name": "stdout",
     "output_type": "stream",
     "text": [
      "['news' 'business' 'health' 'entertainment' 'sport' 'politics']\n"
     ]
    }
   ],
   "source": [
    "df = origin_df[['part_of', 'text']]\n",
    "selected_column = df['part_of']\n",
    "unique_values = selected_column.unique()\n",
    "print(unique_values)"
   ]
  },
  {
   "cell_type": "code",
   "execution_count": 11,
   "id": "115b7732",
   "metadata": {},
   "outputs": [
    {
     "name": "stdout",
     "output_type": "stream",
     "text": [
      "     part_of                                               text\n",
      "100    sport   (CNN)Cameron Smith claimed the PGA Tour's big...\n",
      "101    sport   (CNN)Karl-Anthony Towns recorded the highest ...\n",
      "102    sport   (CNN)The NBA has fined the Brooklyn Nets orga...\n",
      "103    sport   (CNN)Lewis Hamilton -- seven-time world champ...\n",
      "104    sport   (CNN)When Jonathan Franks first heard that th...\n",
      "...      ...                                                ...\n",
      "8647   sport   (CNN)Luka \"Perkz\" Perkovic still remembers th...\n",
      "8648   sport  CNN's series often carry sponsorship originati...\n",
      "8649   sport  CNN's series often carry sponsorship originati...\n",
      "8792   sport   (CNN)Esports is the fast-growing, major money...\n",
      "8793   sport   (CNN)Esports is the fast-growing, major money...\n",
      "\n",
      "[4628 rows x 2 columns]\n"
     ]
    }
   ],
   "source": [
    "filter_condition = df['part_of'] == 'sport'  # Replace 'desired_value' with the value you want to filter\n",
    "filtered_data = df[filter_condition]\n",
    "print(filtered_data)"
   ]
  },
  {
   "cell_type": "code",
   "execution_count": 12,
   "id": "593f7c02",
   "metadata": {},
   "outputs": [],
   "source": [
    "import nltk\n",
    "text_data = df.drop_duplicates()['text']\n",
    "text_list = text_data.values.tolist()\n",
    "for i in range(len(text_list)):\n",
    "    sentences = nltk.sent_tokenize(text_list[i])\n",
    "    with open('cnn_all.txt', 'a') as file:\n",
    "        for sentence in sentences:\n",
    "            file.write(sentence + '\\n')"
   ]
  },
  {
   "cell_type": "code",
   "execution_count": 13,
   "id": "71530757",
   "metadata": {},
   "outputs": [],
   "source": [
    "full_list = [['text', 'label']]\n",
    "for i in range(len(text_list)):\n",
    "    sentences = nltk.sent_tokenize(text_list[i])\n",
    "    for sentence in sentences:\n",
    "        data_list = [sentence, 0]\n",
    "        full_list.append(data_list)"
   ]
  },
  {
   "cell_type": "code",
   "execution_count": 14,
   "id": "52a1b9ad",
   "metadata": {},
   "outputs": [],
   "source": [
    "with open('cnn_full.csv', 'w', newline='') as file:\n",
    "    writer = csv.writer(file)\n",
    "    writer.writerows(full_list)"
   ]
  }
 ],
 "metadata": {
  "kernelspec": {
   "display_name": "Python 3 (ipykernel)",
   "language": "python",
   "name": "python3"
  },
  "language_info": {
   "codemirror_mode": {
    "name": "ipython",
    "version": 3
   },
   "file_extension": ".py",
   "mimetype": "text/x-python",
   "name": "python",
   "nbconvert_exporter": "python",
   "pygments_lexer": "ipython3",
   "version": "3.10.8"
  }
 },
 "nbformat": 4,
 "nbformat_minor": 5
}
